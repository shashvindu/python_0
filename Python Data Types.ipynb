{
 "cells": [
  {
   "cell_type": "code",
   "execution_count": 6,
   "id": "67277e03",
   "metadata": {},
   "outputs": [
    {
     "name": "stdout",
     "output_type": "stream",
     "text": [
      "False\n"
     ]
    }
   ],
   "source": [
    "X=5  \n",
    "y=6\n",
    "print(x==y) #(T or F)  PEP8\n"
   ]
  },
  {
   "cell_type": "code",
   "execution_count": 11,
   "id": "a3cf0df6",
   "metadata": {},
   "outputs": [
    {
     "name": "stdout",
     "output_type": "stream",
     "text": [
      "<class 'int'>\n"
     ]
    }
   ],
   "source": [
    "print(type(x)) #int"
   ]
  },
  {
   "cell_type": "code",
   "execution_count": 12,
   "id": "0c49dddd",
   "metadata": {},
   "outputs": [
    {
     "name": "stdout",
     "output_type": "stream",
     "text": [
      "Rohan  ___  <class 'str'>\n"
     ]
    },
    {
     "data": {
      "text/plain": [
       "str"
      ]
     },
     "execution_count": 12,
     "metadata": {},
     "output_type": "execute_result"
    }
   ],
   "source": [
    " \n",
    "y='Rohan' #strint \"strint\" or 'strint'\n",
    "print(y,' ___ ',type(y))\n",
    "type(y)"
   ]
  },
  {
   "cell_type": "code",
   "execution_count": 27,
   "id": "384e2ddf",
   "metadata": {},
   "outputs": [
    {
     "name": "stdout",
     "output_type": "stream",
     "text": [
      "100\n",
      "<class 'str'>\n",
      "100\n",
      "<class 'int'>\n",
      "100.0\n",
      "<class 'float'>\n"
     ]
    }
   ],
   "source": [
    "x=\"100\"\n",
    "x_int=int(x) #casting : data type change \n",
    "x_float=float(x)\n",
    "print(x)\n",
    "print(type(x))\n",
    "print(x_int)\n",
    "print(type(x_int))\n",
    "print(x_float)\n",
    "print(type(x_float))"
   ]
  },
  {
   "cell_type": "code",
   "execution_count": 29,
   "id": "25eff151",
   "metadata": {},
   "outputs": [
    {
     "data": {
      "text/plain": [
       "bool"
      ]
     },
     "execution_count": 29,
     "metadata": {},
     "output_type": "execute_result"
    }
   ],
   "source": [
    "A=True # bool : only 2 \n",
    "type(A)"
   ]
  },
  {
   "cell_type": "code",
   "execution_count": 30,
   "id": "88f671da",
   "metadata": {},
   "outputs": [
    {
     "name": "stdout",
     "output_type": "stream",
     "text": [
      "1j\n",
      "<class 'complex'>\n"
     ]
    }
   ],
   "source": [
    "x = 1j\n",
    "\n",
    "#display x:\n",
    "print(x)\n",
    "\n",
    "#display the data type of x:\n",
    "print(type(x)) "
   ]
  },
  {
   "cell_type": "code",
   "execution_count": 33,
   "id": "09dfacd9",
   "metadata": {},
   "outputs": [
    {
     "name": "stdout",
     "output_type": "stream",
     "text": [
      "5j\n",
      "<class 'complex'>\n"
     ]
    }
   ],
   "source": [
    "a=5j\n",
    "print(a)\n",
    "print(type(x))"
   ]
  },
  {
   "cell_type": "code",
   "execution_count": 35,
   "id": "350e6d8d",
   "metadata": {},
   "outputs": [
    {
     "name": "stdout",
     "output_type": "stream",
     "text": [
      "Orange\n",
      "Banana\n",
      "Cherry\n",
      "______\n",
      "Cherry\n",
      "Banana\n",
      "Orange\n"
     ]
    }
   ],
   "source": [
    "x, y, z = \"Orange\", \"Banana\", \"Cherry\"\n",
    "print(x)\n",
    "print(y)\n",
    "print(z)\n",
    "\n",
    "x, y, z= z,y,x\n",
    "print(\"______\")\n",
    "print(x)\n",
    "print(y)\n",
    "print(z)"
   ]
  },
  {
   "cell_type": "code",
   "execution_count": 36,
   "id": "d9feb904",
   "metadata": {},
   "outputs": [],
   "source": [
    "a,b,c,d=10,\"rohan\",1.0,5j\n"
   ]
  },
  {
   "cell_type": "code",
   "execution_count": 41,
   "id": "3853cc17",
   "metadata": {},
   "outputs": [
    {
     "name": "stdout",
     "output_type": "stream",
     "text": [
      "None\n",
      "<class 'NoneType'>\n",
      "\n",
      "<class 'str'>\n"
     ]
    }
   ],
   "source": [
    "a=None #null \n",
    "\n",
    "print(a)\n",
    "print(type(a))\n",
    "a='' # str\n",
    "print(a)\n",
    "print(type(a))"
   ]
  },
  {
   "cell_type": "markdown",
   "id": "ea087040",
   "metadata": {},
   "source": [
    "\n",
    "# Sequence Types:\tlist(Arrays in other langes) tuple, range"
   ]
  },
  {
   "cell_type": "code",
   "execution_count": 45,
   "id": "c058ce01",
   "metadata": {},
   "outputs": [
    {
     "name": "stdout",
     "output_type": "stream",
     "text": [
      "<class 'range'>\n"
     ]
    }
   ],
   "source": [
    "a=range(1,5,2)\n",
    "print(type(a))"
   ]
  },
  {
   "cell_type": "code",
   "execution_count": 53,
   "id": "84bf8cef",
   "metadata": {},
   "outputs": [
    {
     "name": "stdout",
     "output_type": "stream",
     "text": [
      "range(0, 3)\n"
     ]
    }
   ],
   "source": [
    "a=range(3) # start from 0 to till n-1 n=100 contain: only number \n",
    "print(a)"
   ]
  },
  {
   "cell_type": "code",
   "execution_count": 54,
   "id": "c8b5d9b3",
   "metadata": {},
   "outputs": [
    {
     "name": "stdout",
     "output_type": "stream",
     "text": [
      "0\n",
      "1\n",
      "2\n"
     ]
    }
   ],
   "source": [
    "for i in a:\n",
    "    print(i)"
   ]
  },
  {
   "cell_type": "code",
   "execution_count": 56,
   "id": "d4567916",
   "metadata": {},
   "outputs": [
    {
     "name": "stdout",
     "output_type": "stream",
     "text": [
      "<class 'range'>\n",
      "1\n",
      "2\n",
      "3\n",
      "4\n"
     ]
    }
   ],
   "source": [
    "a=range(1,5) # : input:range (start,end)  output: start till end-1\n",
    "print(type(a))\n",
    "for i in a:\n",
    "    print(i)"
   ]
  },
  {
   "cell_type": "code",
   "execution_count": 59,
   "id": "801e8c9f",
   "metadata": {},
   "outputs": [
    {
     "name": "stdout",
     "output_type": "stream",
     "text": [
      "<class 'range'>\n",
      "1\n",
      "3\n",
      "5\n",
      "7\n",
      "9\n"
     ]
    }
   ],
   "source": [
    "a=range(1,10,2) # : input:range (start,end,interval)  output: start till end-1\n",
    "print(type(a))\n",
    "for i in a:\n",
    "    print(i)"
   ]
  },
  {
   "cell_type": "code",
   "execution_count": 63,
   "id": "10d248dc",
   "metadata": {},
   "outputs": [
    {
     "name": "stdout",
     "output_type": "stream",
     "text": [
      "<class 'range'>\n",
      "10\n",
      "8\n",
      "6\n",
      "4\n",
      "2\n"
     ]
    }
   ],
   "source": [
    "a=range(10,1,-2) # : input:range (start,end,interval)  output: start till end-1\n",
    "print(type(a))\n",
    "for i in a:\n",
    "    print(i)"
   ]
  },
  {
   "cell_type": "markdown",
   "id": "a3035c53",
   "metadata": {},
   "source": [
    "# list"
   ]
  },
  {
   "cell_type": "code",
   "execution_count": 70,
   "id": "05ce291b",
   "metadata": {},
   "outputs": [
    {
     "name": "stdout",
     "output_type": "stream",
     "text": [
      "<class 'list'>\n"
     ]
    }
   ],
   "source": [
    "l=[\"q\",\"4h\",4,4.0] # [--,--,---] list count start from 0, len(l)-1, end rev_count start with -1\n",
    "print(type(l))"
   ]
  },
  {
   "cell_type": "code",
   "execution_count": 84,
   "id": "0137f06e",
   "metadata": {},
   "outputs": [],
   "source": [
    "l2= [\"a\",\"b\",\"c\",\"d\",\"e\",\"c\",\"b\",\"a\"] #even\n",
    "len(l2)\n",
    "var=-1\n",
    "\n",
    "    "
   ]
  },
  {
   "cell_type": "code",
   "execution_count": 85,
   "id": "95fdd229",
   "metadata": {},
   "outputs": [
    {
     "name": "stdout",
     "output_type": "stream",
     "text": [
      "True\n",
      "True\n",
      "True\n",
      "Fail\n"
     ]
    }
   ],
   "source": [
    "var=-1\n",
    "for i in range(int(len(l2)/2)):\n",
    "    if l2[i]==l2[var]:\n",
    "        print(\"True\")\n",
    "    else:\n",
    "        print(\"Fail\")\n",
    "    var+=-1\n"
   ]
  },
  {
   "cell_type": "code",
   "execution_count": 80,
   "id": "abca8ee9",
   "metadata": {},
   "outputs": [
    {
     "data": {
      "text/plain": [
       "3"
      ]
     },
     "execution_count": 80,
     "metadata": {},
     "output_type": "execute_result"
    }
   ],
   "source": [
    "int(len(l2)/2) "
   ]
  },
  {
   "cell_type": "code",
   "execution_count": null,
   "id": "838c3703",
   "metadata": {},
   "outputs": [],
   "source": [
    "#list all methods in python"
   ]
  },
  {
   "cell_type": "markdown",
   "id": "f6d338bd",
   "metadata": {},
   "source": [
    "Lists in Python are a versatile and commonly used data structure. Here are some of the most commonly used methods for lists in Python:\n",
    "\n",
    "1. **append(x):** Adds an item (x) to the end of the list.\n",
    "\n",
    "   ```python\n",
    "   my_list = [1, 2, 3]\n",
    "   my_list.append(4)\n",
    "   ```\n",
    "\n",
    "2. **extend(iterable):** Appends elements from an iterable to the end of the list.\n",
    "\n",
    "   ```python\n",
    "   my_list = [1, 2, 3]\n",
    "   my_list.extend([4, 5, 6])\n",
    "   ```\n",
    "\n",
    "3. **insert(i, x):** Inserts an item (x) at a specified position (i).\n",
    "\n",
    "   ```python\n",
    "   my_list = [1, 2, 3]\n",
    "   my_list.insert(1, 4)\n",
    "   ```\n",
    "\n",
    "4. **remove(x):** Removes the first occurrence of item (x).\n",
    "\n",
    "   ```python\n",
    "   my_list = [1, 2, 3, 2]\n",
    "   my_list.remove(2)\n",
    "   ```\n",
    "\n",
    "5. **pop([i]):** Removes and returns the item at the specified position (i). If no index is provided, it removes and returns the last item.\n",
    "\n",
    "   ```python\n",
    "   my_list = [1, 2, 3]\n",
    "   popped_item = my_list.pop(1)\n",
    "   ```\n",
    "\n",
    "6. **index(x[, start[, end]]):** Returns the index of the first occurrence of item (x) in the list. You can specify optional start and end positions to search within a range.\n",
    "\n",
    "   ```python\n",
    "   my_list = [1, 2, 3, 2]\n",
    "   index = my_list.index(2)\n",
    "   ```\n",
    "\n",
    "7. **count(x):** Returns the number of times item (x) appears in the list.\n",
    "\n",
    "   ```python\n",
    "   my_list = [1, 2, 3, 2]\n",
    "   count = my_list.count(2)\n",
    "   ```\n",
    "\n",
    "8. **sort(key=None, reverse=False):** Sorts the list in ascending order by default. You can provide a custom key function and set reverse to `True` for descending order.\n",
    "\n",
    "   ```python\n",
    "   my_list = [3, 1, 2]\n",
    "   my_list.sort()\n",
    "   ```\n",
    "\n",
    "9. **reverse():** Reverses the order of elements in the list.\n",
    "\n",
    "   ```python\n",
    "   my_list = [1, 2, 3]\n",
    "   my_list.reverse()\n",
    "   ```\n",
    "\n",
    "10. **clear():** Removes all items from the list.\n",
    "\n",
    "   ```python\n",
    "   my_list = [1, 2, 3]\n",
    "   my_list.clear()\n",
    "   ```\n",
    "\n",
    "11. **copy():** Returns a shallow copy of the list.\n",
    "\n",
    "   ```python\n",
    "   my_list = [1, 2, 3]\n",
    "   new_list = my_list.copy()\n",
    "   ```\n",
    "\n",
    "12. **len(list):** Returns the number of items in the list.\n",
    "\n",
    "   ```python\n",
    "   my_list = [1, 2, 3]\n",
    "   length = len(my_list)\n",
    "   ```\n",
    "\n",
    "These are some of the most frequently used methods for lists in Python. Lists are versatile and widely used for storing collections of items, and these methods allow you to manipulate and work with them effectively."
   ]
  },
  {
   "cell_type": "code",
   "execution_count": 86,
   "id": "a6b0d6b0",
   "metadata": {},
   "outputs": [
    {
     "name": "stdout",
     "output_type": "stream",
     "text": [
      "[1, 2, 3, 4]\n"
     ]
    }
   ],
   "source": [
    "my_list = [1, 2, 3]\n",
    "my_list.append(4)\n",
    "print(my_list)"
   ]
  },
  {
   "cell_type": "code",
   "execution_count": 88,
   "id": "a416b370",
   "metadata": {},
   "outputs": [
    {
     "name": "stdout",
     "output_type": "stream",
     "text": [
      "[1, 2, 3, [4, 5, 6]]\n"
     ]
    }
   ],
   "source": [
    "my_list = [1, 2, 3]\n",
    "my_list.append([4, 5, 6])\n",
    "print(my_list)"
   ]
  },
  {
   "cell_type": "code",
   "execution_count": 87,
   "id": "02ca78af",
   "metadata": {},
   "outputs": [
    {
     "name": "stdout",
     "output_type": "stream",
     "text": [
      "[1, 2, 3, 4, 5, 6]\n"
     ]
    }
   ],
   "source": [
    "my_list = [1, 2, 3]\n",
    "my_list.extend([4, 5, 6])\n",
    "print(my_list)"
   ]
  },
  {
   "cell_type": "code",
   "execution_count": 89,
   "id": "47eacc76",
   "metadata": {},
   "outputs": [
    {
     "name": "stdout",
     "output_type": "stream",
     "text": [
      "[1, 4, 2, 3]\n"
     ]
    }
   ],
   "source": [
    "my_list = [1, 2, 3]\n",
    "my_list.insert(1, 4) #insert(index,value)\n",
    "print(my_list)"
   ]
  },
  {
   "cell_type": "code",
   "execution_count": 96,
   "id": "1647b708",
   "metadata": {},
   "outputs": [
    {
     "data": {
      "text/plain": [
       "['sgfggf', 'gefugweiufg', 'indu', 'a', 'b', 'rohan', 'Shashvindu']"
      ]
     },
     "execution_count": 96,
     "metadata": {},
     "output_type": "execute_result"
    }
   ],
   "source": [
    "listrw=[\"sgfggf\",\"gefugweiufg\",\"a\",\"b\",\"rohan\",\"Shashvindu\"]\n",
    "a=listrw.index(\"rohan\")-2 #out of lenth add at end \n",
    "a\n",
    "listrw.insert(a, \"indu\")\n",
    "listrw"
   ]
  },
  {
   "cell_type": "code",
   "execution_count": 113,
   "id": "47e48c74",
   "metadata": {},
   "outputs": [
    {
     "data": {
      "text/plain": [
       "[1, 3, 2]"
      ]
     },
     "execution_count": 113,
     "metadata": {},
     "output_type": "execute_result"
    }
   ],
   "source": [
    "my_list = [1, 2, 3, 2] #1st find value will remove\n",
    "my_list.remove(2)\n",
    "my_list"
   ]
  },
  {
   "cell_type": "code",
   "execution_count": 98,
   "id": "a60ec11b",
   "metadata": {},
   "outputs": [
    {
     "data": {
      "text/plain": [
       "1"
      ]
     },
     "execution_count": 98,
     "metadata": {},
     "output_type": "execute_result"
    }
   ],
   "source": [
    "my_list = [1, 2, 3, 2] #1st find value will \n",
    "my_list.index(2)\n",
    "# my_list\n",
    "#Q1. how to find index and remove 2ed 2 from list"
   ]
  },
  {
   "cell_type": "code",
   "execution_count": 102,
   "id": "7a7bf3eb",
   "metadata": {},
   "outputs": [
    {
     "name": "stdout",
     "output_type": "stream",
     "text": [
      "6\n",
      "[1, 2, 3, 4, 6, 5]\n"
     ]
    }
   ],
   "source": [
    "my_list = [1, 2, 3, 4, 6, 5, 2]\n",
    "\n",
    "# Find the index of the first occurrence of 2\n",
    "first_occurrence_index = my_list.index(2)\n",
    "\n",
    "# Find the index of the second occurrence of 2 starting from the position after the first occurrence\n",
    "second_occurrence_index = my_list.index(2, first_occurrence_index + 1)\n",
    "print(second_occurrence_index)\n",
    "# Remove the element at the second occurrence index\n",
    "my_list.pop(second_occurrence_index)\n",
    "\n",
    "# Now, my_list will have the second occurrence of 2 removed\n",
    "print(my_list)\n"
   ]
  },
  {
   "cell_type": "code",
   "execution_count": 110,
   "id": "b755f47d",
   "metadata": {},
   "outputs": [
    {
     "data": {
      "text/plain": [
       "4"
      ]
     },
     "execution_count": 110,
     "metadata": {},
     "output_type": "execute_result"
    }
   ],
   "source": [
    "my_list = [1, 2, 3, 4, 6, 5, 2,6]\n",
    "my_list.index(6,4+1)"
   ]
  },
  {
   "cell_type": "code",
   "execution_count": 117,
   "id": "b1ef0ea3",
   "metadata": {},
   "outputs": [
    {
     "name": "stdout",
     "output_type": "stream",
     "text": [
      "2\n",
      "[1, 3]\n"
     ]
    }
   ],
   "source": [
    "my_list = [1, 2, 3]\n",
    "popped_item = my_list.pop(1)\n",
    "print(popped_item)\n",
    "print(my_list)"
   ]
  },
  {
   "cell_type": "code",
   "execution_count": 118,
   "id": "79dcdab5",
   "metadata": {},
   "outputs": [
    {
     "name": "stdout",
     "output_type": "stream",
     "text": [
      "3\n",
      "[1, 2]\n"
     ]
    }
   ],
   "source": [
    "my_list = [1, 2, 3]\n",
    "popped_item = my_list.pop()# last value will remove 1st\n",
    "print(popped_item)\n",
    "print(my_list)"
   ]
  },
  {
   "cell_type": "code",
   "execution_count": 120,
   "id": "8950292a",
   "metadata": {},
   "outputs": [
    {
     "name": "stdout",
     "output_type": "stream",
     "text": [
      "6\n",
      "[1, 2, 3, 4, 6, 5, 2]\n"
     ]
    }
   ],
   "source": [
    "my_list = [1, 2, 3, 4, 6, 5, 2,6]\n",
    "popped_item = my_list.pop()\n",
    "print(popped_item)\n",
    "print(my_list)"
   ]
  },
  {
   "cell_type": "code",
   "execution_count": null,
   "id": "c60e604c",
   "metadata": {},
   "outputs": [],
   "source": [
    "#copy"
   ]
  },
  {
   "cell_type": "code",
   "execution_count": 121,
   "id": "c5990ae2",
   "metadata": {},
   "outputs": [
    {
     "name": "stdout",
     "output_type": "stream",
     "text": [
      "[1, 2, 3]\n"
     ]
    }
   ],
   "source": [
    "my_list = [1, 2, 3]\n",
    "my_list2=my_list # save location [1,2,2]\n",
    "print(my_list2)\n",
    "#new_list = my_list.copy()"
   ]
  },
  {
   "cell_type": "code",
   "execution_count": 122,
   "id": "e811687e",
   "metadata": {},
   "outputs": [
    {
     "name": "stdout",
     "output_type": "stream",
     "text": [
      "[1, 2, 3, 4]\n"
     ]
    }
   ],
   "source": [
    "my_list.append(4)\n",
    "print(my_list2)"
   ]
  },
  {
   "cell_type": "code",
   "execution_count": 123,
   "id": "0a7deb44",
   "metadata": {},
   "outputs": [
    {
     "name": "stdout",
     "output_type": "stream",
     "text": [
      "[1, 2, 3, 4, 5]\n"
     ]
    }
   ],
   "source": [
    "my_list2.append(5)\n",
    "print(my_list)"
   ]
  },
  {
   "cell_type": "code",
   "execution_count": 124,
   "id": "687803ea",
   "metadata": {},
   "outputs": [],
   "source": [
    "new_list = my_list.copy() # copy a list at diffrent location"
   ]
  },
  {
   "cell_type": "code",
   "execution_count": 125,
   "id": "70ee2481",
   "metadata": {},
   "outputs": [],
   "source": [
    "new_list.append(6)\n"
   ]
  },
  {
   "cell_type": "code",
   "execution_count": 127,
   "id": "d50f0b58",
   "metadata": {},
   "outputs": [
    {
     "name": "stdout",
     "output_type": "stream",
     "text": [
      "[1, 2, 3, 4, 5]\n",
      "[1, 2, 3, 4, 5, 6]\n"
     ]
    }
   ],
   "source": [
    "print(my_list)\n",
    "print(new_list)"
   ]
  },
  {
   "cell_type": "code",
   "execution_count": 128,
   "id": "7878d92b",
   "metadata": {},
   "outputs": [
    {
     "ename": "NameError",
     "evalue": "name 'get' is not defined",
     "output_type": "error",
     "traceback": [
      "\u001b[1;31m---------------------------------------------------------------------------\u001b[0m",
      "\u001b[1;31mNameError\u001b[0m                                 Traceback (most recent call last)",
      "Cell \u001b[1;32mIn[128], line 2\u001b[0m\n\u001b[0;32m      1\u001b[0m \u001b[38;5;28;01mimport\u001b[39;00m \u001b[38;5;21;01mos\u001b[39;00m\n\u001b[1;32m----> 2\u001b[0m get\u001b[38;5;241m.\u001b[39mos()\n",
      "\u001b[1;31mNameError\u001b[0m: name 'get' is not defined"
     ]
    }
   ],
   "source": [
    "import os\n"
   ]
  }
 ],
 "metadata": {
  "kernelspec": {
   "display_name": "Python 3 (ipykernel)",
   "language": "python",
   "name": "python3"
  },
  "language_info": {
   "codemirror_mode": {
    "name": "ipython",
    "version": 3
   },
   "file_extension": ".py",
   "mimetype": "text/x-python",
   "name": "python",
   "nbconvert_exporter": "python",
   "pygments_lexer": "ipython3",
   "version": "3.11.4"
  }
 },
 "nbformat": 4,
 "nbformat_minor": 5
}
